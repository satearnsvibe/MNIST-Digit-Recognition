{
  "nbformat": 4,
  "nbformat_minor": 0,
  "metadata": {
    "colab": {
      "provenance": [],
      "authorship_tag": "ABX9TyN4apCt7iu871SFwmHJ+zSW",
      "include_colab_link": true
    },
    "kernelspec": {
      "name": "python3",
      "display_name": "Python 3"
    },
    "language_info": {
      "name": "python"
    }
  },
  "cells": [
    {
      "cell_type": "markdown",
      "metadata": {
        "id": "view-in-github",
        "colab_type": "text"
      },
      "source": [
        "<a href=\"https://colab.research.google.com/github/satearnsvibe/MNIST-Digit-Recognition/blob/main/MNIST_Digit_Recognition.ipynb\" target=\"_parent\"><img src=\"https://colab.research.google.com/assets/colab-badge.svg\" alt=\"Open In Colab\"/></a>"
      ]
    },
    {
      "cell_type": "markdown",
      "source": [
        "Importing basic Library"
      ],
      "metadata": {
        "id": "ihtjA0xihLxx"
      }
    },
    {
      "cell_type": "code",
      "execution_count": 1,
      "metadata": {
        "id": "IgruByeu7Q0V"
      },
      "outputs": [],
      "source": [
        "import numpy as np\n",
        "import pandas as pd\n",
        "from matplotlib import pyplot as plt"
      ]
    },
    {
      "cell_type": "markdown",
      "source": [
        "Importing DataSet"
      ],
      "metadata": {
        "id": "FZsU5JBKhRj7"
      }
    },
    {
      "cell_type": "code",
      "source": [
        "data = pd.read_csv('train.csv')"
      ],
      "metadata": {
        "id": "MJcA24KHdKj9"
      },
      "execution_count": 2,
      "outputs": []
    },
    {
      "cell_type": "markdown",
      "source": [
        "Shuffling Dataset"
      ],
      "metadata": {
        "id": "KVgzr3mYhb9m"
      }
    },
    {
      "cell_type": "code",
      "source": [
        "data = np.array(data)\n",
        "m, n = data.shape\n",
        "np.random.shuffle(data)"
      ],
      "metadata": {
        "id": "UwpFGQJNdQGD"
      },
      "execution_count": 3,
      "outputs": []
    },
    {
      "cell_type": "code",
      "source": [
        "data_dev = data[0:1000].T\n",
        "Y_dev = data_dev[0]\n",
        "X_dev = data_dev[1:n]\n",
        "X_dev = X_dev / 255."
      ],
      "metadata": {
        "id": "hXR14fUNdWVk"
      },
      "execution_count": 4,
      "outputs": []
    },
    {
      "cell_type": "code",
      "source": [
        "data_train = data[1000:m].T\n",
        "Y_train = data_train[0]\n",
        "X_train = data_train[1:n]\n",
        "X_train = X_train / 255.\n",
        "_,m_train = X_train.shape"
      ],
      "metadata": {
        "id": "egFUYrlOdtrz"
      },
      "execution_count": 5,
      "outputs": []
    },
    {
      "cell_type": "code",
      "source": [
        "Y_train"
      ],
      "metadata": {
        "colab": {
          "base_uri": "https://localhost:8080/"
        },
        "id": "rUAzTIm5dwID",
        "outputId": "2812bea6-afe9-4afb-b933-280621adf6c5"
      },
      "execution_count": 6,
      "outputs": [
        {
          "output_type": "execute_result",
          "data": {
            "text/plain": [
              "array([8, 1, 6, ..., 9, 1, 8])"
            ]
          },
          "metadata": {},
          "execution_count": 6
        }
      ]
    },
    {
      "cell_type": "code",
      "source": [
        "def init_params():\n",
        "    W1 = np.random.rand(10, 784) - 0.5\n",
        "    b1 = np.random.rand(10, 1) - 0.5\n",
        "    W2 = np.random.rand(10, 10) - 0.5\n",
        "    b2 = np.random.rand(10, 1) - 0.5\n",
        "    return W1, b1, W2, b2"
      ],
      "metadata": {
        "id": "TrMpbknFdy2l"
      },
      "execution_count": 7,
      "outputs": []
    },
    {
      "cell_type": "code",
      "source": [
        "def ReLU(Z):\n",
        "    return np.maximum(Z, 0)\n",
        "\n",
        "def softmax(Z):\n",
        "    A = np.exp(Z) / sum(np.exp(Z))\n",
        "    return A\n",
        "\n",
        "def ReLU_deriv(Z):\n",
        "    return Z > 0"
      ],
      "metadata": {
        "id": "jBnl2I1ed7c8"
      },
      "execution_count": 11,
      "outputs": []
    },
    {
      "cell_type": "code",
      "source": [
        "def forward_prop(W1, b1, W2, b2, X):\n",
        "    Z1 = W1.dot(X) + b1\n",
        "    A1 = ReLU(Z1)\n",
        "    Z2 = W2.dot(A1) + b2\n",
        "    A2 = softmax(Z2)\n",
        "    return Z1, A1, Z2, A2"
      ],
      "metadata": {
        "id": "s-E8gvbJd_T8"
      },
      "execution_count": 9,
      "outputs": []
    },
    {
      "cell_type": "code",
      "source": [
        "def one_hot(Y):\n",
        "    one_hot_Y = np.zeros((Y.size, Y.max() + 1))\n",
        "    one_hot_Y[np.arange(Y.size), Y] = 1\n",
        "    one_hot_Y = one_hot_Y.T\n",
        "    return one_hot_Y"
      ],
      "metadata": {
        "id": "r5ZDHFsJeCN2"
      },
      "execution_count": 12,
      "outputs": []
    },
    {
      "cell_type": "code",
      "source": [
        "def backward_prop(Z1, A1, Z2, A2, W1, W2, X, Y):\n",
        "    one_hot_Y = one_hot(Y)\n",
        "    dZ2 = A2 - one_hot_Y\n",
        "    dW2 = 1 / m * dZ2.dot(A1.T)\n",
        "    db2 = 1 / m * np.sum(dZ2)\n",
        "    dZ1 = W2.T.dot(dZ2) * ReLU_deriv(Z1)\n",
        "    dW1 = 1 / m * dZ1.dot(X.T)\n",
        "    db1 = 1 / m * np.sum(dZ1)\n",
        "    return dW1, db1, dW2, db2"
      ],
      "metadata": {
        "id": "gruRrlR6ePks"
      },
      "execution_count": 13,
      "outputs": []
    },
    {
      "cell_type": "code",
      "source": [
        "def update_params(W1, b1, W2, b2, dW1, db1, dW2, db2, alpha):\n",
        "    W1 = W1 - alpha * dW1\n",
        "    b1 = b1 - alpha * db1\n",
        "    W2 = W2 - alpha * dW2\n",
        "    b2 = b2 - alpha * db2\n",
        "    return W1, b1, W2, b2"
      ],
      "metadata": {
        "id": "wXpQ0rrBeSKv"
      },
      "execution_count": 14,
      "outputs": []
    },
    {
      "cell_type": "code",
      "source": [
        "def get_predictions(A2):\n",
        "    return np.argmax(A2, 0)"
      ],
      "metadata": {
        "id": "yAxfLSHAeVA9"
      },
      "execution_count": 15,
      "outputs": []
    },
    {
      "cell_type": "code",
      "source": [
        "def get_accuracy(predictions, Y):\n",
        "    print(predictions, Y)\n",
        "    return np.sum(predictions == Y) / Y.size"
      ],
      "metadata": {
        "id": "_IJPIFGueYYF"
      },
      "execution_count": 16,
      "outputs": []
    },
    {
      "cell_type": "code",
      "source": [
        "def gradient_descent(X, Y, alpha, iterations):\n",
        "    W1, b1, W2, b2 = init_params()\n",
        "    for i in range(iterations):\n",
        "        Z1, A1, Z2, A2 = forward_prop(W1, b1, W2, b2, X)\n",
        "        dW1, db1, dW2, db2 = backward_prop(Z1, A1, Z2, A2, W1, W2, X, Y)\n",
        "        W1, b1, W2, b2 = update_params(W1, b1, W2, b2, dW1, db1, dW2, db2, alpha)\n",
        "        if i % 10 == 0:\n",
        "            print(\"Iteration: \", i)\n",
        "            predictions = get_predictions(A2)\n",
        "            print(get_accuracy(predictions, Y))\n",
        "    return W1, b1, W2, b2"
      ],
      "metadata": {
        "id": "Gambhb_eean0"
      },
      "execution_count": 17,
      "outputs": []
    },
    {
      "cell_type": "code",
      "source": [
        "W1, b1, W2, b2 = gradient_descent(X_train, Y_train, 0.10, 500)"
      ],
      "metadata": {
        "colab": {
          "base_uri": "https://localhost:8080/"
        },
        "id": "Dp9vApeMeddi",
        "outputId": "0eb8003c-b588-4bbf-dbff-5b5ed017af88"
      },
      "execution_count": 18,
      "outputs": [
        {
          "output_type": "stream",
          "name": "stdout",
          "text": [
            "Iteration:  0\n",
            "[7 1 1 ... 1 8 2] [8 1 6 ... 9 1 8]\n",
            "0.11341463414634147\n",
            "Iteration:  10\n",
            "[6 1 1 ... 4 8 2] [8 1 6 ... 9 1 8]\n",
            "0.1374878048780488\n",
            "Iteration:  20\n",
            "[7 1 4 ... 4 8 1] [8 1 6 ... 9 1 8]\n",
            "0.17682926829268292\n",
            "Iteration:  30\n",
            "[2 1 4 ... 4 1 2] [8 1 6 ... 9 1 8]\n",
            "0.22065853658536586\n",
            "Iteration:  40\n",
            "[2 1 3 ... 1 1 2] [8 1 6 ... 9 1 8]\n",
            "0.2910731707317073\n",
            "Iteration:  50\n",
            "[2 1 2 ... 1 1 2] [8 1 6 ... 9 1 8]\n",
            "0.36629268292682926\n",
            "Iteration:  60\n",
            "[2 1 6 ... 4 1 8] [8 1 6 ... 9 1 8]\n",
            "0.42260975609756096\n",
            "Iteration:  70\n",
            "[2 1 6 ... 4 1 8] [8 1 6 ... 9 1 8]\n",
            "0.4727073170731707\n",
            "Iteration:  80\n",
            "[2 1 6 ... 4 1 8] [8 1 6 ... 9 1 8]\n",
            "0.5219024390243903\n",
            "Iteration:  90\n",
            "[2 1 6 ... 4 1 8] [8 1 6 ... 9 1 8]\n",
            "0.5649268292682926\n",
            "Iteration:  100\n",
            "[2 1 6 ... 4 1 8] [8 1 6 ... 9 1 8]\n",
            "0.6017317073170732\n",
            "Iteration:  110\n",
            "[2 1 6 ... 9 1 8] [8 1 6 ... 9 1 8]\n",
            "0.6337804878048781\n",
            "Iteration:  120\n",
            "[2 1 6 ... 9 1 8] [8 1 6 ... 9 1 8]\n",
            "0.6604878048780488\n",
            "Iteration:  130\n",
            "[2 1 6 ... 9 1 8] [8 1 6 ... 9 1 8]\n",
            "0.6820487804878049\n",
            "Iteration:  140\n",
            "[2 1 6 ... 9 1 8] [8 1 6 ... 9 1 8]\n",
            "0.6982439024390243\n",
            "Iteration:  150\n",
            "[2 1 6 ... 9 1 8] [8 1 6 ... 9 1 8]\n",
            "0.7104146341463414\n",
            "Iteration:  160\n",
            "[2 1 6 ... 9 1 8] [8 1 6 ... 9 1 8]\n",
            "0.7225853658536585\n",
            "Iteration:  170\n",
            "[2 1 6 ... 9 1 8] [8 1 6 ... 9 1 8]\n",
            "0.7326829268292683\n",
            "Iteration:  180\n",
            "[2 1 6 ... 9 1 8] [8 1 6 ... 9 1 8]\n",
            "0.7410243902439024\n",
            "Iteration:  190\n",
            "[2 1 6 ... 9 1 8] [8 1 6 ... 9 1 8]\n",
            "0.7481707317073171\n",
            "Iteration:  200\n",
            "[2 1 6 ... 9 1 8] [8 1 6 ... 9 1 8]\n",
            "0.7551463414634146\n",
            "Iteration:  210\n",
            "[2 1 6 ... 9 1 8] [8 1 6 ... 9 1 8]\n",
            "0.7612926829268293\n",
            "Iteration:  220\n",
            "[2 1 6 ... 9 1 8] [8 1 6 ... 9 1 8]\n",
            "0.7667804878048781\n",
            "Iteration:  230\n",
            "[2 1 6 ... 9 1 8] [8 1 6 ... 9 1 8]\n",
            "0.771829268292683\n",
            "Iteration:  240\n",
            "[2 1 6 ... 9 1 8] [8 1 6 ... 9 1 8]\n",
            "0.7766829268292683\n",
            "Iteration:  250\n",
            "[2 1 6 ... 9 1 8] [8 1 6 ... 9 1 8]\n",
            "0.7812439024390244\n",
            "Iteration:  260\n",
            "[2 1 6 ... 9 1 8] [8 1 6 ... 9 1 8]\n",
            "0.785\n",
            "Iteration:  270\n",
            "[2 1 6 ... 9 1 8] [8 1 6 ... 9 1 8]\n",
            "0.7879756097560976\n",
            "Iteration:  280\n",
            "[2 1 6 ... 9 1 8] [8 1 6 ... 9 1 8]\n",
            "0.791219512195122\n",
            "Iteration:  290\n",
            "[2 1 6 ... 9 1 8] [8 1 6 ... 9 1 8]\n",
            "0.7941707317073171\n",
            "Iteration:  300\n",
            "[8 1 6 ... 9 1 8] [8 1 6 ... 9 1 8]\n",
            "0.7969756097560976\n",
            "Iteration:  310\n",
            "[8 1 6 ... 9 1 8] [8 1 6 ... 9 1 8]\n",
            "0.7995609756097561\n",
            "Iteration:  320\n",
            "[8 1 6 ... 9 1 8] [8 1 6 ... 9 1 8]\n",
            "0.8022926829268293\n",
            "Iteration:  330\n",
            "[8 1 6 ... 9 1 8] [8 1 6 ... 9 1 8]\n",
            "0.8045609756097561\n",
            "Iteration:  340\n",
            "[8 1 6 ... 9 1 8] [8 1 6 ... 9 1 8]\n",
            "0.8070243902439025\n",
            "Iteration:  350\n",
            "[8 1 6 ... 9 1 8] [8 1 6 ... 9 1 8]\n",
            "0.809609756097561\n",
            "Iteration:  360\n",
            "[8 1 6 ... 9 1 8] [8 1 6 ... 9 1 8]\n",
            "0.8119024390243903\n",
            "Iteration:  370\n",
            "[8 1 6 ... 9 1 8] [8 1 6 ... 9 1 8]\n",
            "0.8140731707317073\n",
            "Iteration:  380\n",
            "[8 1 6 ... 9 1 8] [8 1 6 ... 9 1 8]\n",
            "0.8162926829268292\n",
            "Iteration:  390\n",
            "[8 1 6 ... 9 1 8] [8 1 6 ... 9 1 8]\n",
            "0.8178536585365853\n",
            "Iteration:  400\n",
            "[8 1 6 ... 9 1 8] [8 1 6 ... 9 1 8]\n",
            "0.8197073170731707\n",
            "Iteration:  410\n",
            "[8 1 6 ... 9 1 8] [8 1 6 ... 9 1 8]\n",
            "0.8212195121951219\n",
            "Iteration:  420\n",
            "[8 1 6 ... 9 1 8] [8 1 6 ... 9 1 8]\n",
            "0.8234146341463414\n",
            "Iteration:  430\n",
            "[8 1 6 ... 9 1 8] [8 1 6 ... 9 1 8]\n",
            "0.8254634146341463\n",
            "Iteration:  440\n",
            "[8 1 6 ... 9 1 8] [8 1 6 ... 9 1 8]\n",
            "0.8272926829268292\n",
            "Iteration:  450\n",
            "[8 1 6 ... 9 1 8] [8 1 6 ... 9 1 8]\n",
            "0.8288292682926829\n",
            "Iteration:  460\n",
            "[8 1 6 ... 9 1 8] [8 1 6 ... 9 1 8]\n",
            "0.8304390243902439\n",
            "Iteration:  470\n",
            "[8 1 6 ... 9 1 8] [8 1 6 ... 9 1 8]\n",
            "0.8319024390243902\n",
            "Iteration:  480\n",
            "[8 1 6 ... 9 1 8] [8 1 6 ... 9 1 8]\n",
            "0.8334390243902439\n",
            "Iteration:  490\n",
            "[8 1 6 ... 9 1 8] [8 1 6 ... 9 1 8]\n",
            "0.8344634146341463\n"
          ]
        }
      ]
    },
    {
      "cell_type": "code",
      "source": [
        "def make_predictions(X, W1, b1, W2, b2):\n",
        "    _, _, _, A2 = forward_prop(W1, b1, W2, b2, X)\n",
        "    predictions = get_predictions(A2)\n",
        "    return predictions"
      ],
      "metadata": {
        "id": "3gPW6x_IehGR"
      },
      "execution_count": 19,
      "outputs": []
    },
    {
      "cell_type": "code",
      "source": [
        "def test_prediction(index, W1, b1, W2, b2):\n",
        "    current_image = X_train[:, index, None]\n",
        "    prediction = make_predictions(X_train[:, index, None], W1, b1, W2, b2)\n",
        "    label = Y_train[index]\n",
        "    print(\"Prediction: \", prediction)\n",
        "    print(\"Label: \", label)\n",
        "    current_image = current_image.reshape((28, 28)) * 255\n",
        "    plt.gray()\n",
        "    plt.imshow(current_image, interpolation='nearest')\n",
        "    plt.show()"
      ],
      "metadata": {
        "id": "R7HofRRHgQ5M"
      },
      "execution_count": 21,
      "outputs": []
    },
    {
      "cell_type": "code",
      "source": [
        "test_prediction(1, W1, b1, W2, b2)"
      ],
      "metadata": {
        "colab": {
          "base_uri": "https://localhost:8080/",
          "height": 465
        },
        "id": "Yzjc72fdgTq7",
        "outputId": "1003002b-c938-42f0-e404-3f690870c4d3"
      },
      "execution_count": 22,
      "outputs": [
        {
          "output_type": "stream",
          "name": "stdout",
          "text": [
            "Prediction:  [1]\n",
            "Label:  1\n"
          ]
        },
        {
          "output_type": "display_data",
          "data": {
            "text/plain": [
              "<Figure size 640x480 with 1 Axes>"
            ],
            "image/png": "[encoded data removed]"
          },
          "metadata": {}
        }
      ]
    },
    {
      "cell_type": "code",
      "source": [
        "test_prediction(3, W1, b1, W2, b2)"
      ],
      "metadata": {
        "colab": {
          "base_uri": "https://localhost:8080/",
          "height": 465
        },
        "id": "_usMnl8Fg05Y",
        "outputId": "dfe72cb7-77c1-4821-e31c-56ceaf48b8c0"
      },
      "execution_count": 23,
      "outputs": [
        {
          "output_type": "stream",
          "name": "stdout",
          "text": [
            "Prediction:  [2]\n",
            "Label:  2\n"
          ]
        },
        {
          "output_type": "display_data",
          "data": {
            "text/plain": [
              "<Figure size 640x480 with 1 Axes>"
            ],
            "image/png": "[encoded data removed]"
          },
          "metadata": {}
        }
      ]
    },
    {
      "cell_type": "code",
      "source": [
        "test_prediction(4, W1, b1, W2, b2)"
      ],
      "metadata": {
        "colab": {
          "base_uri": "https://localhost:8080/",
          "height": 465
        },
        "id": "xhbiK4uug4N8",
        "outputId": "60fe6ff8-0686-4162-896f-347d709405fd"
      },
      "execution_count": 24,
      "outputs": [
        {
          "output_type": "stream",
          "name": "stdout",
          "text": [
            "Prediction:  [8]\n",
            "Label:  8\n"
          ]
        },
        {
          "output_type": "display_data",
          "data": {
            "text/plain": [
              "<Figure size 640x480 with 1 Axes>"
            ],
            "image/png": "[encoded data removed]"
          },
          "metadata": {}
        }
      ]
    },
    {
      "cell_type": "code",
      "source": [
        "test_prediction(12, W1, b1, W2, b2) # mis-predicted"
      ],
      "metadata": {
        "colab": {
          "base_uri": "https://localhost:8080/",
          "height": 465
        },
        "id": "AmO4kHH-g92K",
        "outputId": "4164aad2-d421-421a-e55d-ffc58ed074fd"
      },
      "execution_count": 25,
      "outputs": [
        {
          "output_type": "stream",
          "name": "stdout",
          "text": [
            "Prediction:  [7]\n",
            "Label:  5\n"
          ]
        },
        {
          "output_type": "display_data",
          "data": {
            "text/plain": [
              "<Figure size 640x480 with 1 Axes>"
            ],
            "image/png": "[encoded data removed]"
          },
          "metadata": {}
        }
      ]
    },
    {
      "cell_type": "code",
      "source": [
        "test_prediction(15, W1, b1, W2, b2)"
      ],
      "metadata": {
        "colab": {
          "base_uri": "https://localhost:8080/",
          "height": 465
        },
        "id": "ut5K1YlEhBCE",
        "outputId": "2d3efada-38c4-4662-e348-7f442804a463"
      },
      "execution_count": 27,
      "outputs": [
        {
          "output_type": "stream",
          "name": "stdout",
          "text": [
            "Prediction:  [2]\n",
            "Label:  2\n"
          ]
        },
        {
          "output_type": "display_data",
          "data": {
            "text/plain": [
              "<Figure size 640x480 with 1 Axes>"
            ],
            "image/png": "[encoded data removed]"
          },
          "metadata": {}
        }
      ]
    },
    {
      "cell_type": "code",
      "source": [],
      "metadata": {
        "id": "y9CMcSkkvoPZ"
      },
      "execution_count": null,
      "outputs": []
    }
  ]
}